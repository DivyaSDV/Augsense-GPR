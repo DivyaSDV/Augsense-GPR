{
  "nbformat": 4,
  "nbformat_minor": 0,
  "metadata": {
    "colab": {
      "provenance": []
    },
    "kernelspec": {
      "name": "python3",
      "display_name": "Python 3"
    },
    "language_info": {
      "name": "python"
    }
  },
  "cells": [
    {
      "cell_type": "code",
      "source": [
        "!pip install git+https://github.com/gprMax/gprMax"
      ],
      "metadata": {
        "id": "TIkVmPBQ5XvT"
      },
      "execution_count": null,
      "outputs": []
    },
    {
      "cell_type": "code",
      "source": [
        "!pip install pycuda"
      ],
      "metadata": {
        "id": "ev_SuieU7rSb"
      },
      "execution_count": null,
      "outputs": []
    },
    {
      "cell_type": "code",
      "source": [
        "!git config --global user.name \"your_username\"\n",
        "!git config --global user.email \"gmail_account_likned_to_github\"\n",
        "!git config --global user.password \"password\""
      ],
      "metadata": {
        "id": "MfyQjQyZ5dqC"
      },
      "execution_count": null,
      "outputs": []
    },
    {
      "cell_type": "code",
      "source": [
        "!git clone https://YOUR_PERSONAL_ACCESS_TOKEN@github.com/augsenselab/Interns.git"
      ],
      "metadata": {
        "id": "h2OO6oTU5hR-"
      },
      "execution_count": null,
      "outputs": []
    },
    {
      "cell_type": "code",
      "source": [
        "%cd /content/Interns/"
      ],
      "metadata": {
        "id": "NJoEWgzi59FI"
      },
      "execution_count": null,
      "outputs": []
    },
    {
      "cell_type": "code",
      "source": [
        "import os\n",
        "import re\n",
        "from gprMax.gprMax import api\n",
        "\n",
        "# Define the directories\n",
        "input_directory = '/content/Interns/Input_files/'\n",
        "output_directory = '/content/Interns/dataset_generated/bscan_output_files/'\n",
        "\n",
        "# Function to extract diameter and depth from filename\n",
        "def extract_diameter_depth(filename):\n",
        "    # Extract diameter and depth from the filename using regex\n",
        "    match = re.search(r'(\\d+)mm_dia_(\\d+)mm_depth', filename)\n",
        "    if match:\n",
        "        diameter = int(match.group(1))\n",
        "        depth = int(match.group(2))\n",
        "        return (diameter, depth)\n",
        "    return (float('inf'), float('inf'))  # Default to high values if extraction fails\n",
        "\n",
        "# List and sort all files in the input directory\n",
        "files = [f for f in os.listdir(input_directory) if os.path.isfile(os.path.join(input_directory, f))]\n",
        "files.sort(key=lambda f: extract_diameter_depth(f))\n",
        "\n",
        "# Loop through each file and run the api function\n",
        "for filename in files[0:3]:\n",
        "    file_path = os.path.join(input_directory, filename)\n",
        "\n",
        "    # Run the api function\n",
        "    api(file_path, n=5, geometry_fixed=True, gpu=[0])\n",
        "\n",
        "    # Extract the base name without the extension\n",
        "    base_name = os.path.splitext(filename)[0]\n",
        "\n",
        "    # Merge the output files using os.system\n",
        "    merge_command = f\"python3 -m tools.outputfiles_merge {os.path.join(input_directory, base_name)} --remove-files\"\n",
        "    os.system(merge_command)\n",
        "\n",
        "    # Define the merged output file name and paths\n",
        "    merged_output_file = f\"{base_name}_merged.out\"\n",
        "    source_file_path = os.path.join(input_directory, merged_output_file)\n",
        "    destination_file_path = os.path.join(output_directory, merged_output_file)\n",
        "\n",
        "    # Move the merged output file to the new directory using os.system\n",
        "    move_command = f\"mv {source_file_path} {destination_file_path}\"\n",
        "    os.system(move_command)\n"
      ],
      "metadata": {
        "id": "GgLmtkWB6FYu"
      },
      "execution_count": null,
      "outputs": []
    },
    {
      "cell_type": "code",
      "source": [
        "!git status"
      ],
      "metadata": {
        "id": "XQv6xeyH64JJ"
      },
      "execution_count": null,
      "outputs": []
    },
    {
      "cell_type": "code",
      "source": [
        "!ls -1 /content/Interns/Input_files | wc -l"
      ],
      "metadata": {
        "id": "sdrIbX_z6_ra"
      },
      "execution_count": null,
      "outputs": []
    },
    {
      "cell_type": "code",
      "source": [
        "!git add /content/Interns/Input_files/*"
      ],
      "metadata": {
        "id": "yw0_ouDI7Cxg"
      },
      "execution_count": null,
      "outputs": []
    },
    {
      "cell_type": "code",
      "source": [
        "!git commit -m \"Updated output files\""
      ],
      "metadata": {
        "id": "qI0M_Xy07HQK"
      },
      "execution_count": null,
      "outputs": []
    },
    {
      "cell_type": "code",
      "source": [
        "!git push https://YOUR_ACCESS_TOKEN@github.com/augsenselab/Interns.git"
      ],
      "metadata": {
        "id": "87F_LZlH7c2L"
      },
      "execution_count": null,
      "outputs": []
    }
  ]
}