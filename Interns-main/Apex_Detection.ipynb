{
  "nbformat": 4,
  "nbformat_minor": 0,
  "metadata": {
    "colab": {
      "provenance": []
    },
    "kernelspec": {
      "name": "python3",
      "display_name": "Python 3"
    },
    "language_info": {
      "name": "python"
    }
  },
  "cells": [
    {
      "cell_type": "code",
      "execution_count": null,
      "metadata": {
        "colab": {
          "base_uri": "https://localhost:8080/"
        },
        "id": "GwCHvjtlFG1F",
        "outputId": "9edec678-5d16-4ccf-e6dd-572d9ad30cd3"
      },
      "outputs": [
        {
          "output_type": "stream",
          "name": "stdout",
          "text": [
            "Requirement already satisfied: opencv-python-headless in /usr/local/lib/python3.10/dist-packages (4.10.0.84)\n",
            "Requirement already satisfied: numpy>=1.21.2 in /usr/local/lib/python3.10/dist-packages (from opencv-python-headless) (1.25.2)\n",
            "Requirement already satisfied: numpy in /usr/local/lib/python3.10/dist-packages (1.25.2)\n"
          ]
        }
      ],
      "source": [
        "!pip install opencv-python-headless\n",
        "!pip install numpy"
      ]
    },
    {
      "cell_type": "code",
      "source": [
        "import cv2\n",
        "import numpy as np\n",
        "import matplotlib.pyplot as plt\n",
        "\n",
        "# Load the image\n",
        "image_path = '/content/edge.png'\n",
        "image = cv2.imread(image_path, cv2.IMREAD_GRAYSCALE)\n",
        "\n",
        "# Display the image\n",
        "plt.imshow(image, cmap='gray')\n",
        "plt.title('Radargram')\n",
        "plt.show()\n"
      ],
      "metadata": {
        "colab": {
          "base_uri": "https://localhost:8080/",
          "height": 452
        },
        "id": "JsvHfYOnFzwp",
        "outputId": "14ae1319-87bd-496f-e455-0f4f0a139cea"
      },
      "execution_count": null,
      "outputs": [
        {
          "output_type": "display_data",
          "data": {
            "text/plain": [
              "<Figure size 640x480 with 1 Axes>"
            ],
            "image/png": "[encoded data removed]"
          },
          "metadata": {}
        }
      ]
    },
    {
      "cell_type": "code",
      "source": [
        "print(image.shape)"
      ],
      "metadata": {
        "colab": {
          "base_uri": "https://localhost:8080/"
        },
        "id": "VFhsAw3MktQH",
        "outputId": "3e8c6b26-8d0f-45ad-9bdf-2ef4ee3e5464"
      },
      "execution_count": null,
      "outputs": [
        {
          "output_type": "stream",
          "name": "stdout",
          "text": [
            "(472, 467)\n"
          ]
        }
      ]
    },
    {
      "cell_type": "code",
      "source": [
        "def find_initial_pixel(image, part):\n",
        "    height, width = image.shape\n",
        "    column = (width // 3) * part\n",
        "    if part == 2:\n",
        "        column -= 1\n",
        "\n",
        "    max_intensity = 0\n",
        "    start_row = 0\n",
        "\n",
        "    for row in range(height):\n",
        "        if image[row, column] > max_intensity:\n",
        "            max_intensity = image[row, column]\n",
        "            start_row = row\n",
        "\n",
        "    return (start_row, column)"
      ],
      "metadata": {
        "id": "6svZKP-vL99R"
      },
      "execution_count": null,
      "outputs": []
    },
    {
      "cell_type": "code",
      "source": [
        "def search_apex(image, start_pixel):\n",
        "    height, width = image.shape\n",
        "    sum_of_moves = 0\n",
        "    threshold = height // 10\n",
        "    current_pixel = start_pixel\n",
        "\n",
        "    while sum_of_moves <= threshold:\n",
        "        row, col = current_pixel\n",
        "        submatrix = image[max(0, row-1):min(height, row+2), col:col+2]\n",
        "        local_max_pos = np.unravel_index(np.argmax(submatrix), submatrix.shape)\n",
        "        new_row, new_col = max(0, row-1) + local_max_pos[0], col + local_max_pos[1]\n",
        "\n",
        "        if new_row == row or new_row > row:\n",
        "            sum_of_moves += 1\n",
        "        else:\n",
        "            sum_of_moves = 0\n",
        "\n",
        "        if new_col >= width - 1:\n",
        "            break\n",
        "\n",
        "        current_pixel = (new_row, new_col)\n",
        "\n",
        "    return current_pixel"
      ],
      "metadata": {
        "id": "VO3jwEB_N8ga"
      },
      "execution_count": null,
      "outputs": []
    },
    {
      "cell_type": "code",
      "source": [
        "def search_apex_right(image, start_pixel):\n",
        "    height, width = image.shape\n",
        "    sum_of_moves = 0\n",
        "    threshold = height // 10\n",
        "    current_pixel = start_pixel\n",
        "\n",
        "    while sum_of_moves <= threshold:\n",
        "        row, col = current_pixel\n",
        "        submatrix = image[max(0, row-1):min(height, row+2), col:col+2]\n",
        "        local_max_pos = np.unravel_index(np.argmax(submatrix[:, 1:]), submatrix[:, 1:].shape)\n",
        "        local_max_pos = (local_max_pos[0], local_max_pos[1] + 1)\n",
        "        new_row, new_col = max(0, row-1) + local_max_pos[0], col + local_max_pos[1]\n",
        "\n",
        "        if new_row >= row:\n",
        "            sum_of_moves += 1\n",
        "        else:\n",
        "            sum_of_moves = 0\n",
        "\n",
        "        current_pixel = (new_row, new_col)\n",
        "\n",
        "    return current_pixel\n"
      ],
      "metadata": {
        "id": "Isg66vI4OA4P"
      },
      "execution_count": null,
      "outputs": []
    },
    {
      "cell_type": "code",
      "source": [
        "def search_apex_left(image, start_pixel):\n",
        "    height, width = image.shape\n",
        "    sum_of_moves = 0\n",
        "    threshold = height // 10\n",
        "    current_pixel = start_pixel\n",
        "\n",
        "    while sum_of_moves <= threshold:\n",
        "        row, col = current_pixel\n",
        "        submatrix = image[max(0, row-1):min(height, row+2), col-1:col+1]\n",
        "        local_max_pos = np.unravel_index(np.argmax(submatrix[:, :-1]), submatrix[:, :-1].shape)\n",
        "        new_row, new_col = max(0, row-1) + local_max_pos[0], col - 1 + local_max_pos[1]\n",
        "\n",
        "        if new_row >= row:\n",
        "            sum_of_moves += 1\n",
        "        else:\n",
        "            sum_of_moves = 0\n",
        "\n",
        "        current_pixel = (new_row, new_col)\n",
        "\n",
        "    return current_pixel\n"
      ],
      "metadata": {
        "id": "ycA0shD0GGx6"
      },
      "execution_count": null,
      "outputs": []
    },
    {
      "cell_type": "code",
      "source": [
        "def finalize_apex(pixels):\n",
        "    pixels = np.array(pixels)\n",
        "    apex_row = np.min(pixels[:, 0])\n",
        "    apex_col_candidates = pixels[pixels[:, 0] == apex_row, 1]\n",
        "    apex_col = np.mean(apex_col_candidates).astype(int)\n",
        "    return (apex_row, apex_col)\n",
        "\n",
        "# Find initial pixels for both parts\n",
        "start_pixel_1 = find_initial_pixel(image, 1)\n",
        "start_pixel_2 = find_initial_pixel(image, 2)\n",
        "\n",
        "# Search apex in both directions\n",
        "apex_right = search_apex_right(image, start_pixel_1)\n",
        "apex_left = search_apex_left(image, start_pixel_2)\n",
        "\n",
        "# Combine pixels from both searches and finalize apex\n",
        "all_pixels = [apex_right, apex_left]\n",
        "apex = finalize_apex(all_pixels)\n",
        "\n",
        "print(\"Final Apex:\", apex)\n",
        "\n",
        "# Display the apex on the image\n",
        "apex_image = image.copy()\n",
        "apex_image[apex[0], apex[1]] = 255\n",
        "\n"
      ],
      "metadata": {
        "colab": {
          "base_uri": "https://localhost:8080/"
        },
        "id": "FlU3UQU5GZ_i",
        "outputId": "043ef4b1-3185-4d0d-a405-ea49c0955218"
      },
      "execution_count": null,
      "outputs": [
        {
          "output_type": "stream",
          "name": "stdout",
          "text": [
            "Final Apex: (264, 226)\n"
          ]
        }
      ]
    },
    {
      "cell_type": "code",
      "source": [
        "def visualize_apex(image_path, apex):\n",
        "    image = cv2.imread(image_path, cv2.IMREAD_GRAYSCALE)\n",
        "\n",
        "    # Mark the apex on the image\n",
        "    marked_image = cv2.cvtColor(image, cv2.COLOR_GRAY2BGR)\n",
        "    cv2.circle(marked_image, (apex[1], apex[0]), 10, (0, 0, 255), -1)\n",
        "\n",
        "    # Display the image\n",
        "    plt.imshow(marked_image)\n",
        "    plt.title('Radargram with Apex Marked')\n",
        "    plt.show()\n",
        "\n",
        "# Visualize the apex\n",
        "visualize_apex(image_path, apex)"
      ],
      "metadata": {
        "colab": {
          "base_uri": "https://localhost:8080/",
          "height": 452
        },
        "id": "AsVinaNCGh7Z",
        "outputId": "10c0a07c-bfcb-40a2-ead8-2ad32d52f4ac"
      },
      "execution_count": null,
      "outputs": [
        {
          "output_type": "display_data",
          "data": {
            "text/plain": [
              "<Figure size 640x480 with 1 Axes>"
            ],
            "image/png": "[encoded data removed]"
          },
          "metadata": {}
        }
      ]
    },
    {
      "cell_type": "code",
      "source": [
        "def find_prongs(image, apex):\n",
        "    height, width = image.shape\n",
        "    prongs = [apex]\n",
        "    current_pixel = apex\n",
        "\n",
        "    # Search to the right of the apex\n",
        "    while current_pixel[1] < width - 4:  # Make sure we stay within bounds for 4x4 submatrix\n",
        "        row, col = current_pixel\n",
        "\n",
        "        # Create the 4x4 submatrix\n",
        "        submatrix = image[row:row+4, col:col+4]\n",
        "\n",
        "        # Find the local maximum in the 4x4 matrix\n",
        "        local_max_pos = np.unravel_index(np.argmax(submatrix), submatrix.shape)\n",
        "        new_row, new_col = row + local_max_pos[0], col + local_max_pos[1]\n",
        "\n",
        "        if new_row == row and new_col == col:\n",
        "            break\n",
        "\n",
        "        prongs.append((new_row, new_col))\n",
        "        current_pixel = (new_row, new_col)\n",
        "\n",
        "    # Reset current_pixel to apex for searching to the left\n",
        "    current_pixel = apex\n",
        "\n",
        "    # Search to the left of the apex\n",
        "    while current_pixel[1] > 3:  # Make sure we stay within bounds for 4x4 submatrix\n",
        "        row, col = current_pixel\n",
        "\n",
        "        # Create the 4x4 submatrix\n",
        "        submatrix = image[row:row+4, col-4:col]\n",
        "\n",
        "        # Find the local maximum in the 4x4 matrix\n",
        "        local_max_pos = np.unravel_index(np.argmax(submatrix), submatrix.shape)\n",
        "        new_row, new_col = row + local_max_pos[0], col - 4 + local_max_pos[1]\n",
        "\n",
        "        if new_row == row and new_col == col:\n",
        "            break\n",
        "\n",
        "        prongs.append((new_row, new_col))\n",
        "        current_pixel = (new_row, new_col)\n",
        "\n",
        "    return prongs\n",
        "\n",
        "# Find prongs\n",
        "prongs = find_prongs(image, apex)\n",
        "print(\"Prongs:\", prongs)\n",
        "\n",
        "# Display prongs on the image\n",
        "color_image = cv2.cvtColor(image, cv2.COLOR_GRAY2BGR)\n",
        "\n",
        "# Enhance visibility for apex (red) and prongs (green)\n",
        "for (row, col) in prongs:\n",
        "    cv2.circle(color_image, (col, row), 2, (0, 255, 0), -1)  # Green circles for prongs\n",
        "\n",
        "# Red circle for apex\n",
        "cv2.circle(color_image, (apex[1], apex[0]), 5, (0, 0, 255), -1)  # Red circle for apex\n",
        "\n",
        "plt.imshow(color_image)\n",
        "plt.title('Detected Prongs')\n",
        "plt.show()\n"
      ],
      "metadata": {
        "colab": {
          "base_uri": "https://localhost:8080/",
          "height": 490
        },
        "id": "ZklyEAU95IOQ",
        "outputId": "c820aa1e-2bb5-4a07-a015-68854a0fe247"
      },
      "execution_count": null,
      "outputs": [
        {
          "output_type": "stream",
          "name": "stdout",
          "text": [
            "Prongs: [(264, 226), (264, 222), (264, 218), (264, 214), (264, 210), (264, 206), (264, 202), (264, 198), (264, 194), (264, 190), (267, 186), (267, 182), (267, 178), (267, 174), (267, 170), (267, 166), (267, 162), (267, 158), (267, 156), (270, 152), (271, 148), (271, 144), (271, 140), (271, 138), (274, 137), (275, 133), (275, 129), (275, 125), (275, 121), (275, 117), (275, 116), (278, 112), (278, 108), (278, 104), (278, 100), (278, 97), (281, 96), (282, 92), (282, 88), (282, 86), (285, 82), (285, 78), (285, 74), (285, 71), (285, 70), (285, 66), (285, 62), (285, 58), (285, 54), (285, 50), (285, 46), (285, 42), (285, 38), (285, 34), (285, 30), (285, 26), (285, 22), (285, 18), (285, 14), (285, 10), (285, 6), (285, 2)]\n"
          ]
        },
        {
          "output_type": "display_data",
          "data": {
            "text/plain": [
              "<Figure size 640x480 with 1 Axes>"
            ],
            "image/png": "[encoded data removed]"
          },
          "metadata": {}
        }
      ]
    }
  ]
}